{
 "cells": [
  {
   "cell_type": "code",
   "execution_count": null,
   "metadata": {},
   "outputs": [],
   "source": [
    "import numpy \n",
    "from tensorflow import keras\n",
    "from keras.constraints import maxnorm\n",
    "#install package from conda-forge\n",
    "from sklearn.preprocessing import OneHotEncoder\n",
    "from keras.models import Sequential , load_model\n",
    "from keras.layers import Conv2D , MaxPool2D , Dense , Dropout , Flatten\n",
    "from keras.callbacks import EarlyStopping\n",
    "from sklearn.metrics import confusion_matrix\n",
    "from keras.utils import np_utils\n",
    "from keras.datasets import cifar10\n",
    "import matplotlib.pyplot as plt\n",
    "import pandas as pd"
   ]
  },
  {
   "cell_type": "code",
   "execution_count": null,
   "metadata": {},
   "outputs": [],
   "source": [
    "#load images from cifar10 dataset\n",
    "# x : original image\n",
    "# y : label of image\n",
    "(x_train , y_train) , (x_test , y_test) = cifar10.load_data()"
   ]
  },
  {
   "cell_type": "code",
   "execution_count": null,
   "metadata": {},
   "outputs": [],
   "source": [
    "num_class = y_test.shape[1] #10 \n",
    "# x_train.shape\n",
    "# (5000 , 32 ,32 , 3) 32 px * 32 px and 3 for RGB channel\n",
    "# x_test.shape\n",
    "# show image :\n",
    "# plt.imshow(x_train[0])\n"
   ]
  },
  {
   "cell_type": "code",
   "execution_count": null,
   "metadata": {},
   "outputs": [],
   "source": [
    "# normalize the input from 0 - 255 to 0  - 1 by dividing by 255\n",
    "x_train = x_train.astype('float32')\n",
    "x_test = x_test.astype('float32')\n",
    "x_train = x_train / 255.0\n",
    "\n",
    "x_test = x_test / 255.0"
   ]
  },
  {
   "cell_type": "code",
   "execution_count": null,
   "metadata": {},
   "outputs": [],
   "source": [
    "#one-hot encode outputs\n",
    "y_train = np_utils.to_categorical(y_train)\n",
    "y_test = np_utils.to_categorical(y_test)\n",
    "\n",
    "#before this : y_train[0] : [6]\n",
    "#after this : y_train[0] : [0 , 0, 0, 0, ,0 , 0 ,1 , 0  , 0 ,0 ]"
   ]
  },
  {
   "cell_type": "code",
   "execution_count": null,
   "metadata": {},
   "outputs": [],
   "source": [
    "#building model\n",
    "model = Sequential()\n",
    "model.add(Conv2D(32 , (3 , 3) , padding='same' ,input_shape = x_train.shape[1:], activation='relu'))\n",
    "model.add(Conv2D(64 , (3 , 3) , padding='same' , activation='relu'))\n",
    "model.add(MaxPool2D())\n",
    "model.add(Conv2D(64 , (3 , 3) , padding='same' , activation='relu'))\n",
    "model.add(MaxPool2D())\n",
    "model.add(Conv2D(128 , (3 , 3) , padding='same' , activation='relu'))\n",
    "model.add(MaxPool2D())\n",
    "# flatten means convert nD array to 1D array\n",
    "model.add(Flatten())\n",
    "\n"
   ]
  },
  {
   "cell_type": "code",
   "execution_count": null,
   "metadata": {},
   "outputs": [],
   "source": [
    "#input layer for neural network :\n",
    "model.add(Dense(32 , activation='relu'))\n",
    "#output layer :\n",
    "model.add(Dense(10 , activation='softmax'))"
   ]
  },
  {
   "cell_type": "code",
   "execution_count": null,
   "metadata": {},
   "outputs": [],
   "source": [
    "#compile model :\n",
    "#if we have more than 2 categories  :\n",
    "model.compile(loss='categorical_crossentropy' , optimizer='Adam' , metrics=['accuracy' ])\n",
    "\n",
    "#else : loss='binary_crossentropy'\n",
    "\n",
    "model.summary()"
   ]
  },
  {
   "cell_type": "code",
   "execution_count": null,
   "metadata": {},
   "outputs": [],
   "source": [
    "#training the model:\n",
    "history = model.fit(x_train , y_train , validation_data=(x_test , y_test) , batch_size=64,epochs=30 )"
   ]
  },
  {
   "cell_type": "code",
   "execution_count": null,
   "metadata": {},
   "outputs": [],
   "source": [
    "#show loss , accuracy , val_loss , val_accuracy\n",
    "pd.DataFrame(history.history).plot()\n",
    "#overfitting :\n",
    "#loss is decreasing but val_loss in increase"
   ]
  }
 ],
 "metadata": {
  "interpreter": {
   "hash": "582e37c8a57030b38e37f90bb20544d43a5a306672d3cfba7fe42b38f5d28673"
  },
  "kernelspec": {
   "display_name": "Python 3.10.4 ('py3-TF2.0')",
   "language": "python",
   "name": "python3"
  },
  "language_info": {
   "codemirror_mode": {
    "name": "ipython",
    "version": 3
   },
   "file_extension": ".py",
   "mimetype": "text/x-python",
   "name": "python",
   "nbconvert_exporter": "python",
   "pygments_lexer": "ipython3",
   "version": "3.10.4"
  },
  "orig_nbformat": 4
 },
 "nbformat": 4,
 "nbformat_minor": 2
}
