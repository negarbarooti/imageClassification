{
 "cells": [
  {
   "cell_type": "code",
   "execution_count": 2,
   "metadata": {},
   "outputs": [],
   "source": [
    "import numpy \n",
    "from tensorflow import keras\n",
    "from keras.constraints import maxnorm\n",
    "#install package from conda-forge\n",
    "from sklearn.preprocessing import OneHotEncoder\n",
    "from keras.models import Sequential , load_model\n",
    "from keras.layers import Conv2D , MaxPool2D , Dense , Dropout , Flatten\n",
    "from keras.layers import BatchNormalization\n",
    "from keras.callbacks import EarlyStopping\n",
    "from sklearn.metrics import confusion_matrix\n",
    "from keras.utils import np_utils\n",
    "from keras.datasets import cifar10\n",
    "import matplotlib.pyplot as plt\n",
    "import pandas as pd\n",
    "import seaborn as sns"
   ]
  },
  {
   "cell_type": "code",
   "execution_count": 3,
   "metadata": {},
   "outputs": [],
   "source": [
    "#load images from cifar10 dataset\n",
    "# x : original image\n",
    "# y : label of image\n",
    "(x_train , y_train) , (x_test , y_test) = cifar10.load_data()"
   ]
  },
  {
   "cell_type": "code",
   "execution_count": 4,
   "metadata": {},
   "outputs": [],
   "source": [
    "num_class = y_test.shape[1] #10 \n",
    "# x_train.shape\n",
    "# (5000 , 32 ,32 , 3) 32 px * 32 px and 3 for RGB channel\n",
    "# x_test.shape\n",
    "# show image :\n",
    "# plt.imshow(x_train[0])\n"
   ]
  },
  {
   "cell_type": "code",
   "execution_count": 5,
   "metadata": {},
   "outputs": [],
   "source": [
    "# normalize the input from 0 - 255 to 0  - 1 by dividing by 255\n",
    "x_train = x_train.astype('float32')\n",
    "x_test = x_test.astype('float32')\n",
    "x_train = x_train / 255.0\n",
    "\n",
    "x_test = x_test / 255.0"
   ]
  },
  {
   "cell_type": "code",
   "execution_count": 6,
   "metadata": {},
   "outputs": [],
   "source": [
    "#one-hot encode outputs\n",
    "y_train = np_utils.to_categorical(y_train)\n",
    "y_test = np_utils.to_categorical(y_test)\n",
    "\n",
    "#before this : y_train[0] : [6]\n",
    "#after this : y_train[0] : [0 , 0, 0, 0, ,0 , 0 ,1 , 0  , 0 ,0 ]"
   ]
  },
  {
   "cell_type": "code",
   "execution_count": 7,
   "metadata": {},
   "outputs": [
    {
     "name": "stderr",
     "output_type": "stream",
     "text": [
      "2022-08-18 11:31:21.491549: I tensorflow/core/common_runtime/pluggable_device/pluggable_device_factory.cc:305] Could not identify NUMA node of platform GPU ID 0, defaulting to 0. Your kernel may not have been built with NUMA support.\n",
      "2022-08-18 11:31:21.491685: I tensorflow/core/common_runtime/pluggable_device/pluggable_device_factory.cc:271] Created TensorFlow device (/job:localhost/replica:0/task:0/device:GPU:0 with 0 MB memory) -> physical PluggableDevice (device: 0, name: METAL, pci bus id: <undefined>)\n"
     ]
    },
    {
     "name": "stdout",
     "output_type": "stream",
     "text": [
      "Metal device set to: Apple M1\n",
      "\n",
      "systemMemory: 16.00 GB\n",
      "maxCacheSize: 5.33 GB\n",
      "\n"
     ]
    }
   ],
   "source": [
    "model = Sequential()\n",
    "model.add(Conv2D(32, (3,3), padding='same', input_shape=x_train.shape[1:], activation='relu'))\n",
    "model.add(Dropout(0.2))\n",
    "model.add(BatchNormalization())\n",
    "model.add(Conv2D(64, (3,3), padding='same', activation='relu'))\n",
    "model.add(MaxPool2D(2))\n",
    "model.add(Dropout(0.2))\n",
    "model.add(BatchNormalization())\n",
    "\n",
    "model.add(Conv2D(64, (3,3), padding='same', activation='relu'))\n",
    "model.add(MaxPool2D(2))\n",
    "model.add(Dropout(0.2))\n",
    "model.add(BatchNormalization())\n",
    "\n",
    "model.add(Conv2D(128, (3,3), padding='same', activation='relu'))\n",
    "model.add(Dropout(0.2))\n",
    "model.add(BatchNormalization())\n",
    "\n",
    "model.add(Flatten())\n",
    "model.add(Dropout(0.2))\n",
    "\n"
   ]
  },
  {
   "cell_type": "code",
   "execution_count": 8,
   "metadata": {},
   "outputs": [],
   "source": [
    "#input layer for neural network :\n",
    "model.add(Dense(32 , activation='relu'))\n",
    "model.add(Dropout(0.2))\n",
    "model.add(BatchNormalization())\n",
    "#output layer :\n",
    "model.add(Dense(10 , activation='softmax'))"
   ]
  },
  {
   "cell_type": "code",
   "execution_count": 9,
   "metadata": {},
   "outputs": [
    {
     "name": "stdout",
     "output_type": "stream",
     "text": [
      "Model: \"sequential\"\n",
      "_________________________________________________________________\n",
      " Layer (type)                Output Shape              Param #   \n",
      "=================================================================\n",
      " conv2d (Conv2D)             (None, 32, 32, 32)        896       \n",
      "                                                                 \n",
      " dropout (Dropout)           (None, 32, 32, 32)        0         \n",
      "                                                                 \n",
      " batch_normalization (BatchN  (None, 32, 32, 32)       128       \n",
      " ormalization)                                                   \n",
      "                                                                 \n",
      " conv2d_1 (Conv2D)           (None, 32, 32, 64)        18496     \n",
      "                                                                 \n",
      " max_pooling2d (MaxPooling2D  (None, 16, 16, 64)       0         \n",
      " )                                                               \n",
      "                                                                 \n",
      " dropout_1 (Dropout)         (None, 16, 16, 64)        0         \n",
      "                                                                 \n",
      " batch_normalization_1 (Batc  (None, 16, 16, 64)       256       \n",
      " hNormalization)                                                 \n",
      "                                                                 \n",
      " conv2d_2 (Conv2D)           (None, 16, 16, 64)        36928     \n",
      "                                                                 \n",
      " max_pooling2d_1 (MaxPooling  (None, 8, 8, 64)         0         \n",
      " 2D)                                                             \n",
      "                                                                 \n",
      " dropout_2 (Dropout)         (None, 8, 8, 64)          0         \n",
      "                                                                 \n",
      " batch_normalization_2 (Batc  (None, 8, 8, 64)         256       \n",
      " hNormalization)                                                 \n",
      "                                                                 \n",
      " conv2d_3 (Conv2D)           (None, 8, 8, 128)         73856     \n",
      "                                                                 \n",
      " dropout_3 (Dropout)         (None, 8, 8, 128)         0         \n",
      "                                                                 \n",
      " batch_normalization_3 (Batc  (None, 8, 8, 128)        512       \n",
      " hNormalization)                                                 \n",
      "                                                                 \n",
      " flatten (Flatten)           (None, 8192)              0         \n",
      "                                                                 \n",
      " dropout_4 (Dropout)         (None, 8192)              0         \n",
      "                                                                 \n",
      " dense (Dense)               (None, 32)                262176    \n",
      "                                                                 \n",
      " dropout_5 (Dropout)         (None, 32)                0         \n",
      "                                                                 \n",
      " batch_normalization_4 (Batc  (None, 32)               128       \n",
      " hNormalization)                                                 \n",
      "                                                                 \n",
      " dense_1 (Dense)             (None, 10)                330       \n",
      "                                                                 \n",
      "=================================================================\n",
      "Total params: 393,962\n",
      "Trainable params: 393,322\n",
      "Non-trainable params: 640\n",
      "_________________________________________________________________\n"
     ]
    }
   ],
   "source": [
    "#compile model :\n",
    "#if we have more than 2 categories  :\n",
    "model.compile(loss='categorical_crossentropy' , optimizer='adam' , metrics=['accuracy'])\n",
    "\n",
    "#else : loss='binary_crossentropy'\n",
    "\n",
    "model.summary()"
   ]
  },
  {
   "cell_type": "code",
   "execution_count": 10,
   "metadata": {},
   "outputs": [
    {
     "name": "stdout",
     "output_type": "stream",
     "text": [
      "Epoch 1/20\n"
     ]
    },
    {
     "name": "stderr",
     "output_type": "stream",
     "text": [
      "2022-08-18 11:31:22.569374: W tensorflow/core/platform/profile_utils/cpu_utils.cc:128] Failed to get CPU frequency: 0 Hz\n",
      "2022-08-18 11:31:23.323957: I tensorflow/core/grappler/optimizers/custom_graph_optimizer_registry.cc:113] Plugin optimizer for device_type GPU is enabled.\n"
     ]
    },
    {
     "name": "stdout",
     "output_type": "stream",
     "text": [
      "782/782 [==============================] - ETA: 0s - loss: 1.4781 - accuracy: 0.4775"
     ]
    },
    {
     "name": "stderr",
     "output_type": "stream",
     "text": [
      "2022-08-18 11:32:09.886622: I tensorflow/core/grappler/optimizers/custom_graph_optimizer_registry.cc:113] Plugin optimizer for device_type GPU is enabled.\n"
     ]
    },
    {
     "name": "stdout",
     "output_type": "stream",
     "text": [
      "782/782 [==============================] - 49s 57ms/step - loss: 1.4781 - accuracy: 0.4775 - val_loss: 1.1419 - val_accuracy: 0.6052\n",
      "Epoch 2/20\n",
      "782/782 [==============================] - 44s 56ms/step - loss: 1.0002 - accuracy: 0.6503 - val_loss: 0.8719 - val_accuracy: 0.6963\n",
      "Epoch 3/20\n",
      "782/782 [==============================] - 44s 56ms/step - loss: 0.8330 - accuracy: 0.7100 - val_loss: 0.8059 - val_accuracy: 0.7237\n",
      "Epoch 4/20\n",
      "782/782 [==============================] - 44s 57ms/step - loss: 0.7354 - accuracy: 0.7437 - val_loss: 0.7347 - val_accuracy: 0.7455\n",
      "Epoch 5/20\n",
      "782/782 [==============================] - 44s 56ms/step - loss: 0.6691 - accuracy: 0.7670 - val_loss: 0.6594 - val_accuracy: 0.7745\n",
      "Epoch 6/20\n",
      "782/782 [==============================] - 42s 54ms/step - loss: 0.6128 - accuracy: 0.7852 - val_loss: 0.6666 - val_accuracy: 0.7650\n",
      "Epoch 7/20\n",
      "782/782 [==============================] - 44s 56ms/step - loss: 0.5707 - accuracy: 0.7994 - val_loss: 0.6132 - val_accuracy: 0.7840\n",
      "Epoch 8/20\n",
      "782/782 [==============================] - 45s 57ms/step - loss: 0.5367 - accuracy: 0.8115 - val_loss: 0.6936 - val_accuracy: 0.7665\n",
      "Epoch 9/20\n",
      "782/782 [==============================] - 45s 58ms/step - loss: 0.4965 - accuracy: 0.8278 - val_loss: 0.6114 - val_accuracy: 0.7927\n",
      "Epoch 10/20\n",
      "782/782 [==============================] - 45s 57ms/step - loss: 0.4753 - accuracy: 0.8334 - val_loss: 0.5865 - val_accuracy: 0.8041\n",
      "Epoch 11/20\n",
      "782/782 [==============================] - 44s 57ms/step - loss: 0.4477 - accuracy: 0.8441 - val_loss: 0.5838 - val_accuracy: 0.7999\n",
      "Epoch 12/20\n",
      "782/782 [==============================] - 46s 59ms/step - loss: 0.4287 - accuracy: 0.8513 - val_loss: 0.5907 - val_accuracy: 0.7995\n",
      "Epoch 13/20\n",
      "782/782 [==============================] - 44s 56ms/step - loss: 0.4115 - accuracy: 0.8552 - val_loss: 0.6024 - val_accuracy: 0.7954\n",
      "Epoch 14/20\n",
      "782/782 [==============================] - 44s 56ms/step - loss: 0.3977 - accuracy: 0.8588 - val_loss: 0.5705 - val_accuracy: 0.8063\n",
      "Epoch 15/20\n",
      "782/782 [==============================] - 43s 55ms/step - loss: 0.3761 - accuracy: 0.8683 - val_loss: 0.5786 - val_accuracy: 0.8078\n",
      "Epoch 16/20\n",
      "782/782 [==============================] - 45s 57ms/step - loss: 0.3626 - accuracy: 0.8715 - val_loss: 0.5891 - val_accuracy: 0.8070\n",
      "Epoch 17/20\n",
      "782/782 [==============================] - 45s 58ms/step - loss: 0.3559 - accuracy: 0.8714 - val_loss: 0.6113 - val_accuracy: 0.7995\n",
      "Epoch 18/20\n",
      "782/782 [==============================] - 44s 57ms/step - loss: 0.3430 - accuracy: 0.8786 - val_loss: 0.5918 - val_accuracy: 0.8081\n",
      "Epoch 19/20\n",
      "782/782 [==============================] - 44s 57ms/step - loss: 0.3331 - accuracy: 0.8820 - val_loss: 0.8162 - val_accuracy: 0.7424\n",
      "Epoch 20/20\n",
      "782/782 [==============================] - 44s 57ms/step - loss: 0.3187 - accuracy: 0.8865 - val_loss: 0.5686 - val_accuracy: 0.8120\n"
     ]
    }
   ],
   "source": [
    "#training the model:\n",
    "history = model.fit(x_train , y_train , validation_data=(x_test , y_test) , batch_size=64,epochs=20 )"
   ]
  },
  {
   "cell_type": "code",
   "execution_count": 11,
   "metadata": {},
   "outputs": [
    {
     "data": {
      "text/plain": [
       "<AxesSubplot:>"
      ]
     },
     "execution_count": 11,
     "metadata": {},
     "output_type": "execute_result"
    },
    {
     "data": {
      "image/png": "[encoded data removed]",
      "text/plain": [
       "<Figure size 432x288 with 1 Axes>"
      ]
     },
     "metadata": {
      "needs_background": "light"
     },
     "output_type": "display_data"
    }
   ],
   "source": [
    "# show loss , accuracy , val_loss , val_accuracy\n",
    "# for key , value in history.history.items():\n",
    "#     print(key)\n",
    "pd.DataFrame(history.history).plot()\n",
    "# overfitting : when model just memorizes the data and doesnt learn them\n",
    "# loss is decreasing but val_loss in increase\n",
    "# how can we solve overfitting ?\n",
    "# 1. adding more data ( data augmentation )\n",
    "# 2. using dropout\n",
    "\n"
   ]
  },
  {
   "cell_type": "code",
   "execution_count": 12,
   "metadata": {},
   "outputs": [
    {
     "name": "stderr",
     "output_type": "stream",
     "text": [
      "WARNING:absl:Found untraced functions such as _jit_compiled_convolution_op, _jit_compiled_convolution_op, _jit_compiled_convolution_op, _jit_compiled_convolution_op while saving (showing 4 of 4). These functions will not be directly callable after loading.\n"
     ]
    },
    {
     "name": "stdout",
     "output_type": "stream",
     "text": [
      "INFO:tensorflow:Assets written to: CNN-cifar10.h1/assets\n"
     ]
    },
    {
     "name": "stderr",
     "output_type": "stream",
     "text": [
      "INFO:tensorflow:Assets written to: CNN-cifar10.h1/assets\n"
     ]
    }
   ],
   "source": [
    "# save model :\n",
    "model.save('CNN-cifar10.h1')\n",
    "# use it on other noteboook :\n",
    "new_model = load_model('CNN-cifar10.h1')\n"
   ]
  },
  {
   "cell_type": "code",
   "execution_count": 13,
   "metadata": {},
   "outputs": [
    {
     "name": "stderr",
     "output_type": "stream",
     "text": [
      "2022-08-18 11:46:18.098287: I tensorflow/core/grappler/optimizers/custom_graph_optimizer_registry.cc:113] Plugin optimizer for device_type GPU is enabled.\n"
     ]
    },
    {
     "name": "stdout",
     "output_type": "stream",
     "text": [
      "1/1 [==============================] - 0s 316ms/step\n",
      "[[1.45548611e-05 3.51388189e-06 6.70396767e-05 9.15609002e-01\n",
      "  1.19566284e-04 7.32192025e-02 1.05994018e-02 1.26079307e-04\n",
      "  2.35114756e-04 6.61634022e-06]\n",
      " [2.81176027e-02 3.25096957e-02 1.69623709e-05 3.21605585e-05\n",
      "  2.27526016e-05 7.91002890e-07 1.23591246e-06 1.86710095e-05\n",
      "  9.35853124e-01 3.42702447e-03]\n",
      " [4.75283852e-03 1.52865693e-03 2.31510676e-05 3.93889233e-04\n",
      "  1.68864281e-04 1.01933829e-05 1.86743673e-05 1.82372751e-05\n",
      "  9.91265714e-01 1.81976892e-03]\n",
      " [5.60217857e-01 9.59194906e-04 1.98237062e-03 3.42480256e-03\n",
      "  6.57839119e-05 2.79883898e-05 3.94097675e-04 7.03330006e-05\n",
      "  4.29829955e-01 3.02757346e-03]\n",
      " [1.64779340e-04 7.01265380e-05 8.22900534e-02 2.41687242e-02\n",
      "  9.53282192e-02 7.08223888e-05 7.97718167e-01 3.90360441e-07\n",
      "  1.80517600e-04 8.19821526e-06]\n",
      " [2.53104690e-06 1.13449769e-05 1.11536682e-03 2.75845863e-02\n",
      "  1.71009381e-03 9.13483463e-03 9.60403264e-01 7.23510493e-06\n",
      "  1.25210136e-05 1.82155745e-05]\n",
      " [3.46568390e-03 5.67867458e-01 2.76180520e-03 1.74650863e-01\n",
      "  2.92434008e-04 1.76770359e-01 1.29918372e-02 9.48523916e-03\n",
      "  1.92591033e-04 5.15218712e-02]\n",
      " [1.36292819e-03 3.80729703e-04 1.67251471e-02 9.66473308e-04\n",
      "  5.00318483e-02 7.97309540e-03 9.21209455e-01 9.33441115e-05\n",
      "  8.05982098e-04 4.51010652e-04]\n",
      " [3.26431182e-04 1.15027899e-04 2.74957693e-03 9.65793967e-01\n",
      "  1.13863340e-02 1.38485776e-02 4.86237835e-03 4.88974736e-04\n",
      "  7.05001585e-05 3.58282414e-04]\n",
      " [3.01843771e-04 9.96574044e-01 1.82975134e-06 1.14311370e-05\n",
      "  3.90322857e-05 6.01060356e-06 2.55561696e-04 2.28784211e-06\n",
      "  7.94455293e-04 2.01356201e-03]]\n",
      "cat\n"
     ]
    },
    {
     "data": {
      "text/plain": [
       "array([0., 0., 0., 1., 0., 0., 0., 0., 0., 0.], dtype=float32)"
      ]
     },
     "execution_count": 13,
     "metadata": {},
     "output_type": "execute_result"
    }
   ],
   "source": [
    "# manual test on the model:\n",
    "labels = ['airplane' , 'automobile' , 'bird','cat' , 'deer' , 'dog' , 'frog' , 'horse' , 'ship' , 'truck']\n",
    "print(new_model.predict(x_test[0:10]))\n",
    "print(labels[3])\n",
    "y_test[0]"
   ]
  },
  {
   "cell_type": "code",
   "execution_count": 14,
   "metadata": {},
   "outputs": [
    {
     "name": "stdout",
     "output_type": "stream",
     "text": [
      " 19/313 [>.............................] - ETA: 1s"
     ]
    },
    {
     "name": "stderr",
     "output_type": "stream",
     "text": [
      "2022-08-18 11:46:18.543907: I tensorflow/core/grappler/optimizers/custom_graph_optimizer_registry.cc:113] Plugin optimizer for device_type GPU is enabled.\n"
     ]
    },
    {
     "name": "stdout",
     "output_type": "stream",
     "text": [
      "313/313 [==============================] - 2s 6ms/step\n"
     ]
    },
    {
     "data": {
      "image/png": "[encoded data removed]",
      "text/plain": [
       "<Figure size 648x648 with 1 Axes>"
      ]
     },
     "metadata": {
      "needs_background": "light"
     },
     "output_type": "display_data"
    }
   ],
   "source": [
    "# Predicting test data\n",
    "predictions = model.predict(x_test)\n",
    "\n",
    "predictions = numpy.argmax(predictions, axis = 1)\n",
    "\n",
    "y_test = numpy.argmax(y_test, axis = 1)\n",
    "\n",
    "\n",
    "# Creating confusion matrix\n",
    "cm = confusion_matrix(y_test, predictions)\n",
    "\n",
    "plt.figure(figsize=(9,9))\n",
    "sns.heatmap(cm, cbar=False, xticklabels=labels, yticklabels=labels, fmt='d', annot=True, cmap=plt.cm.Blues)\n",
    "plt.xlabel('Predicted')\n",
    "plt.ylabel('Actual')\n",
    "plt.show()"
   ]
  }
 ],
 "metadata": {
  "interpreter": {
   "hash": "582e37c8a57030b38e37f90bb20544d43a5a306672d3cfba7fe42b38f5d28673"
  },
  "kernelspec": {
   "display_name": "Python 3.10.4 ('py3-TF2.0')",
   "language": "python",
   "name": "python3"
  },
  "language_info": {
   "codemirror_mode": {
    "name": "ipython",
    "version": 3
   },
   "file_extension": ".py",
   "mimetype": "text/x-python",
   "name": "python",
   "nbconvert_exporter": "python",
   "pygments_lexer": "ipython3",
   "version": "3.10.4"
  },
  "orig_nbformat": 4
 },
 "nbformat": 4,
 "nbformat_minor": 2
}
