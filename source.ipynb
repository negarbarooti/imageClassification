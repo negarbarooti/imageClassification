{
 "cells": [
  {
   "cell_type": "code",
   "execution_count": 1,
   "metadata": {},
   "outputs": [],
   "source": [
    "import numpy \n",
    "from tensorflow import keras\n",
    "from keras.constraints import maxnorm\n",
    "#install package from conda-forge\n",
    "from sklearn.preprocessing import OneHotEncoder\n",
    "from keras.models import Sequential , load_model\n",
    "from keras.layers import Conv2D , MaxPool2D , Dense , Dropout , Flatten\n",
    "from keras.layers import BatchNormalization\n",
    "from keras.callbacks import EarlyStopping\n",
    "from sklearn.metrics import confusion_matrix\n",
    "from keras.utils import np_utils\n",
    "from keras.datasets import cifar10\n",
    "import matplotlib.pyplot as plt\n",
    "import pandas as pd\n",
    "import seaborn as sns"
   ]
  },
  {
   "cell_type": "code",
   "execution_count": 2,
   "metadata": {},
   "outputs": [],
   "source": [
    "#load images from cifar10 dataset\n",
    "# x : original image\n",
    "# y : label of image\n",
    "(x_train , y_train) , (x_test , y_test) = cifar10.load_data()"
   ]
  },
  {
   "cell_type": "code",
   "execution_count": 3,
   "metadata": {},
   "outputs": [],
   "source": [
    "num_class = y_test.shape[1] #10 \n",
    "# x_train.shape\n",
    "# (5000 , 32 ,32 , 3) 32 px * 32 px and 3 for RGB channel\n",
    "# x_test.shape\n",
    "# show image :\n",
    "# plt.imshow(x_train[0])\n"
   ]
  },
  {
   "cell_type": "code",
   "execution_count": 4,
   "metadata": {},
   "outputs": [],
   "source": [
    "# normalize the input from 0 - 255 to 0  - 1 by dividing by 255\n",
    "x_train = x_train.astype('float32')\n",
    "x_test = x_test.astype('float32')\n",
    "x_train = x_train / 255.0\n",
    "\n",
    "x_test = x_test / 255.0"
   ]
  },
  {
   "cell_type": "code",
   "execution_count": 5,
   "metadata": {},
   "outputs": [],
   "source": [
    "#one-hot encode outputs\n",
    "y_train = np_utils.to_categorical(y_train)\n",
    "y_test = np_utils.to_categorical(y_test)\n",
    "\n",
    "#before this : y_train[0] : [6]\n",
    "#after this : y_train[0] : [0 , 0, 0, 0, ,0 , 0 ,1 , 0  , 0 ,0 ]"
   ]
  },
  {
   "cell_type": "code",
   "execution_count": 6,
   "metadata": {},
   "outputs": [
    {
     "name": "stdout",
     "output_type": "stream",
     "text": [
      "Metal device set to: Apple M1\n",
      "\n",
      "systemMemory: 16.00 GB\n",
      "maxCacheSize: 5.33 GB\n",
      "\n"
     ]
    },
    {
     "name": "stderr",
     "output_type": "stream",
     "text": [
      "2022-08-19 13:23:13.524900: I tensorflow/core/common_runtime/pluggable_device/pluggable_device_factory.cc:305] Could not identify NUMA node of platform GPU ID 0, defaulting to 0. Your kernel may not have been built with NUMA support.\n",
      "2022-08-19 13:23:13.525525: I tensorflow/core/common_runtime/pluggable_device/pluggable_device_factory.cc:271] Created TensorFlow device (/job:localhost/replica:0/task:0/device:GPU:0 with 0 MB memory) -> physical PluggableDevice (device: 0, name: METAL, pci bus id: <undefined>)\n"
     ]
    }
   ],
   "source": [
    "# convolutional neural network\n",
    "model = Sequential()\n",
    "model.add(Conv2D(32, (3,3), padding='same', input_shape=x_train.shape[1:], activation='relu'))\n",
    "model.add(Dropout(0.2))\n",
    "model.add(BatchNormalization())\n",
    "model.add(Conv2D(64, (3,3), padding='same', activation='relu'))\n",
    "model.add(MaxPool2D(2))\n",
    "model.add(Dropout(0.2))\n",
    "model.add(BatchNormalization())\n",
    "\n",
    "model.add(Conv2D(64, (3,3), padding='same', activation='relu'))\n",
    "model.add(MaxPool2D(2))\n",
    "model.add(Dropout(0.2))\n",
    "model.add(BatchNormalization())\n",
    "\n",
    "model.add(Conv2D(128, (3,3), padding='same', activation='relu'))\n",
    "model.add(Dropout(0.2))\n",
    "model.add(BatchNormalization())\n",
    "\n",
    "model.add(Flatten())\n",
    "model.add(Dropout(0.2))\n",
    "\n"
   ]
  },
  {
   "cell_type": "code",
   "execution_count": 7,
   "metadata": {},
   "outputs": [],
   "source": [
    "#input layer for neural network :\n",
    "model.add(Dense(32 , activation='relu'))\n",
    "model.add(Dropout(0.2))\n",
    "model.add(BatchNormalization())\n",
    "#output layer :\n",
    "model.add(Dense(10 , activation='softmax'))"
   ]
  },
  {
   "cell_type": "code",
   "execution_count": 8,
   "metadata": {},
   "outputs": [
    {
     "name": "stdout",
     "output_type": "stream",
     "text": [
      "Model: \"sequential\"\n",
      "_________________________________________________________________\n",
      " Layer (type)                Output Shape              Param #   \n",
      "=================================================================\n",
      " conv2d (Conv2D)             (None, 32, 32, 32)        896       \n",
      "                                                                 \n",
      " dropout (Dropout)           (None, 32, 32, 32)        0         \n",
      "                                                                 \n",
      " batch_normalization (BatchN  (None, 32, 32, 32)       128       \n",
      " ormalization)                                                   \n",
      "                                                                 \n",
      " conv2d_1 (Conv2D)           (None, 32, 32, 64)        18496     \n",
      "                                                                 \n",
      " max_pooling2d (MaxPooling2D  (None, 16, 16, 64)       0         \n",
      " )                                                               \n",
      "                                                                 \n",
      " dropout_1 (Dropout)         (None, 16, 16, 64)        0         \n",
      "                                                                 \n",
      " batch_normalization_1 (Batc  (None, 16, 16, 64)       256       \n",
      " hNormalization)                                                 \n",
      "                                                                 \n",
      " conv2d_2 (Conv2D)           (None, 16, 16, 64)        36928     \n",
      "                                                                 \n",
      " max_pooling2d_1 (MaxPooling  (None, 8, 8, 64)         0         \n",
      " 2D)                                                             \n",
      "                                                                 \n",
      " dropout_2 (Dropout)         (None, 8, 8, 64)          0         \n",
      "                                                                 \n",
      " batch_normalization_2 (Batc  (None, 8, 8, 64)         256       \n",
      " hNormalization)                                                 \n",
      "                                                                 \n",
      " conv2d_3 (Conv2D)           (None, 8, 8, 128)         73856     \n",
      "                                                                 \n",
      " dropout_3 (Dropout)         (None, 8, 8, 128)         0         \n",
      "                                                                 \n",
      " batch_normalization_3 (Batc  (None, 8, 8, 128)        512       \n",
      " hNormalization)                                                 \n",
      "                                                                 \n",
      " flatten (Flatten)           (None, 8192)              0         \n",
      "                                                                 \n",
      " dropout_4 (Dropout)         (None, 8192)              0         \n",
      "                                                                 \n",
      " dense (Dense)               (None, 32)                262176    \n",
      "                                                                 \n",
      " dropout_5 (Dropout)         (None, 32)                0         \n",
      "                                                                 \n",
      " batch_normalization_4 (Batc  (None, 32)               128       \n",
      " hNormalization)                                                 \n",
      "                                                                 \n",
      " dense_1 (Dense)             (None, 10)                330       \n",
      "                                                                 \n",
      "=================================================================\n",
      "Total params: 393,962\n",
      "Trainable params: 393,322\n",
      "Non-trainable params: 640\n",
      "_________________________________________________________________\n"
     ]
    }
   ],
   "source": [
    "#compile model :\n",
    "#if we have more than 2 categories  :\n",
    "model.compile(loss='categorical_crossentropy' , optimizer='adam' , metrics=['accuracy'])\n",
    "\n",
    "#else : loss='binary_crossentropy'\n",
    "\n",
    "model.summary()"
   ]
  },
  {
   "cell_type": "code",
   "execution_count": 9,
   "metadata": {},
   "outputs": [
    {
     "name": "stdout",
     "output_type": "stream",
     "text": [
      "Epoch 1/20\n"
     ]
    },
    {
     "name": "stderr",
     "output_type": "stream",
     "text": [
      "2022-08-19 13:23:14.652239: W tensorflow/core/platform/profile_utils/cpu_utils.cc:128] Failed to get CPU frequency: 0 Hz\n",
      "2022-08-19 13:23:15.284993: I tensorflow/core/grappler/optimizers/custom_graph_optimizer_registry.cc:113] Plugin optimizer for device_type GPU is enabled.\n"
     ]
    },
    {
     "name": "stdout",
     "output_type": "stream",
     "text": [
      "782/782 [==============================] - ETA: 0s - loss: 1.4505 - accuracy: 0.4871"
     ]
    },
    {
     "name": "stderr",
     "output_type": "stream",
     "text": [
      "2022-08-19 13:23:56.132385: I tensorflow/core/grappler/optimizers/custom_graph_optimizer_registry.cc:113] Plugin optimizer for device_type GPU is enabled.\n"
     ]
    },
    {
     "name": "stdout",
     "output_type": "stream",
     "text": [
      "782/782 [==============================] - 43s 54ms/step - loss: 1.4505 - accuracy: 0.4871 - val_loss: 1.2605 - val_accuracy: 0.5557\n",
      "Epoch 2/20\n",
      "782/782 [==============================] - 42s 54ms/step - loss: 0.9804 - accuracy: 0.6596 - val_loss: 0.9205 - val_accuracy: 0.6764\n",
      "Epoch 3/20\n",
      "782/782 [==============================] - 43s 55ms/step - loss: 0.8269 - accuracy: 0.7147 - val_loss: 0.9211 - val_accuracy: 0.6756\n",
      "Epoch 4/20\n",
      "782/782 [==============================] - 43s 55ms/step - loss: 0.7346 - accuracy: 0.7450 - val_loss: 0.8118 - val_accuracy: 0.7184\n",
      "Epoch 5/20\n",
      "782/782 [==============================] - 43s 55ms/step - loss: 0.6686 - accuracy: 0.7684 - val_loss: 0.6893 - val_accuracy: 0.7583\n",
      "Epoch 6/20\n",
      "782/782 [==============================] - 43s 55ms/step - loss: 0.6152 - accuracy: 0.7874 - val_loss: 0.9015 - val_accuracy: 0.6890\n",
      "Epoch 7/20\n",
      "782/782 [==============================] - 43s 55ms/step - loss: 0.5704 - accuracy: 0.8015 - val_loss: 0.6845 - val_accuracy: 0.7677\n",
      "Epoch 8/20\n",
      "782/782 [==============================] - 43s 55ms/step - loss: 0.5329 - accuracy: 0.8144 - val_loss: 0.6641 - val_accuracy: 0.7750\n",
      "Epoch 9/20\n",
      "782/782 [==============================] - 43s 55ms/step - loss: 0.5070 - accuracy: 0.8227 - val_loss: 0.6044 - val_accuracy: 0.7923\n",
      "Epoch 10/20\n",
      "782/782 [==============================] - 519s 665ms/step - loss: 0.4777 - accuracy: 0.8331 - val_loss: 0.5935 - val_accuracy: 0.7996\n",
      "Epoch 11/20\n",
      "782/782 [==============================] - 43s 55ms/step - loss: 0.4504 - accuracy: 0.8427 - val_loss: 0.6665 - val_accuracy: 0.7834\n",
      "Epoch 12/20\n",
      "782/782 [==============================] - 43s 55ms/step - loss: 0.4304 - accuracy: 0.8493 - val_loss: 0.6028 - val_accuracy: 0.8009\n",
      "Epoch 13/20\n",
      "782/782 [==============================] - 43s 55ms/step - loss: 0.4106 - accuracy: 0.8554 - val_loss: 0.5667 - val_accuracy: 0.8097\n",
      "Epoch 14/20\n",
      "782/782 [==============================] - 43s 55ms/step - loss: 0.4014 - accuracy: 0.8589 - val_loss: 0.5655 - val_accuracy: 0.8086\n",
      "Epoch 15/20\n",
      "782/782 [==============================] - 43s 55ms/step - loss: 0.3786 - accuracy: 0.8667 - val_loss: 0.6638 - val_accuracy: 0.7809\n",
      "Epoch 16/20\n",
      "782/782 [==============================] - 44s 56ms/step - loss: 0.3679 - accuracy: 0.8703 - val_loss: 0.5905 - val_accuracy: 0.8042\n",
      "Epoch 17/20\n",
      "782/782 [==============================] - 44s 56ms/step - loss: 0.3532 - accuracy: 0.8742 - val_loss: 0.5889 - val_accuracy: 0.8107\n",
      "Epoch 18/20\n",
      "782/782 [==============================] - 43s 56ms/step - loss: 0.3417 - accuracy: 0.8804 - val_loss: 0.5975 - val_accuracy: 0.8033\n",
      "Epoch 19/20\n",
      "782/782 [==============================] - 44s 56ms/step - loss: 0.3332 - accuracy: 0.8816 - val_loss: 0.5840 - val_accuracy: 0.8066\n",
      "Epoch 20/20\n",
      "782/782 [==============================] - 44s 56ms/step - loss: 0.3247 - accuracy: 0.8849 - val_loss: 0.5945 - val_accuracy: 0.8119\n"
     ]
    }
   ],
   "source": [
    "#training the model:\n",
    "history = model.fit(x_train , y_train , validation_data=(x_test , y_test) , batch_size=64,epochs=20 )"
   ]
  },
  {
   "cell_type": "code",
   "execution_count": 10,
   "metadata": {},
   "outputs": [
    {
     "data": {
      "text/plain": [
       "<AxesSubplot:>"
      ]
     },
     "execution_count": 10,
     "metadata": {},
     "output_type": "execute_result"
    },
    {
     "data": {
      "image/png": "[encoded data removed]",
      "text/plain": [
       "<Figure size 432x288 with 1 Axes>"
      ]
     },
     "metadata": {
      "needs_background": "light"
     },
     "output_type": "display_data"
    }
   ],
   "source": [
    "# show loss , accuracy , val_loss , val_accuracy\n",
    "# for key , value in history.history.items():\n",
    "#     print(key)\n",
    "pd.DataFrame(history.history).plot()\n",
    "# overfitting : when model just memorizes the data and doesnt learn them\n",
    "# loss is decreasing but val_loss in increase\n",
    "# how can we solve overfitting ?\n",
    "# 1. adding more data ( data augmentation )\n",
    "# 2. using dropout\n",
    "\n"
   ]
  },
  {
   "cell_type": "code",
   "execution_count": 11,
   "metadata": {},
   "outputs": [
    {
     "name": "stderr",
     "output_type": "stream",
     "text": [
      "WARNING:absl:Found untraced functions such as _jit_compiled_convolution_op, _jit_compiled_convolution_op, _jit_compiled_convolution_op, _jit_compiled_convolution_op while saving (showing 4 of 4). These functions will not be directly callable after loading.\n"
     ]
    },
    {
     "name": "stdout",
     "output_type": "stream",
     "text": [
      "INFO:tensorflow:Assets written to: CNN-cifar10.h1/assets\n"
     ]
    },
    {
     "name": "stderr",
     "output_type": "stream",
     "text": [
      "INFO:tensorflow:Assets written to: CNN-cifar10.h1/assets\n"
     ]
    }
   ],
   "source": [
    "# save model :\n",
    "model.save('CNN-cifar10.h1')\n",
    "# use it on other noteboook :\n",
    "new_model = load_model('CNN-cifar10.h1')\n"
   ]
  },
  {
   "cell_type": "code",
   "execution_count": 12,
   "metadata": {},
   "outputs": [],
   "source": [
    "# manual test on the model:\n",
    "labels = ['airplane' , 'automobile' , 'bird','cat' , 'deer' , 'dog' , 'frog' , 'horse' , 'ship' , 'truck']\n",
    "# print(new_model.predict(x_test[0:10]))\n",
    "# print(labels[3])\n",
    "# y_test[0]"
   ]
  },
  {
   "cell_type": "code",
   "execution_count": 13,
   "metadata": {},
   "outputs": [
    {
     "name": "stdout",
     "output_type": "stream",
     "text": [
      " 19/313 [>.............................] - ETA: 1s"
     ]
    },
    {
     "name": "stderr",
     "output_type": "stream",
     "text": [
      "2022-08-19 13:45:38.700879: I tensorflow/core/grappler/optimizers/custom_graph_optimizer_registry.cc:113] Plugin optimizer for device_type GPU is enabled.\n"
     ]
    },
    {
     "name": "stdout",
     "output_type": "stream",
     "text": [
      "313/313 [==============================] - 2s 6ms/step\n"
     ]
    },
    {
     "data": {
      "image/png": "[encoded data removed]",
      "text/plain": [
       "<Figure size 648x648 with 1 Axes>"
      ]
     },
     "metadata": {
      "needs_background": "light"
     },
     "output_type": "display_data"
    }
   ],
   "source": [
    "# Predicting test data\n",
    "predictions = model.predict(x_test)\n",
    "\n",
    "predictions = numpy.argmax(predictions, axis = 1)\n",
    "\n",
    "y_test = numpy.argmax(y_test, axis = 1)\n",
    "\n",
    "\n",
    "# Creating confusion matrix\n",
    "cm = confusion_matrix(y_test, predictions)\n",
    "\n",
    "plt.figure(figsize=(9,9))\n",
    "sns.heatmap(cm, cbar=False, xticklabels=labels, yticklabels=labels, fmt='d', annot=True, cmap=plt.cm.Blues)\n",
    "plt.xlabel('Predicted')\n",
    "plt.ylabel('Actual')\n",
    "plt.show()"
   ]
  }
 ],
 "metadata": {
  "interpreter": {
   "hash": "582e37c8a57030b38e37f90bb20544d43a5a306672d3cfba7fe42b38f5d28673"
  },
  "kernelspec": {
   "display_name": "Python 3.10.4 ('py3-TF2.0')",
   "language": "python",
   "name": "python3"
  },
  "language_info": {
   "codemirror_mode": {
    "name": "ipython",
    "version": 3
   },
   "file_extension": ".py",
   "mimetype": "text/x-python",
   "name": "python",
   "nbconvert_exporter": "python",
   "pygments_lexer": "ipython3",
   "version": "3.10.4"
  },
  "orig_nbformat": 4
 },
 "nbformat": 4,
 "nbformat_minor": 2
}
